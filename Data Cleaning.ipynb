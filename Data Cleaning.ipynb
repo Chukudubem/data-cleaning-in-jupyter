{
 "cells": [
  {
   "cell_type": "code",
   "execution_count": 66,
   "metadata": {
    "collapsed": true
   },
   "outputs": [],
   "source": [
    "import re\n",
    "import numpy as np\n",
    "import pandas as pd"
   ]
  },
  {
   "cell_type": "code",
   "execution_count": 113,
   "metadata": {},
   "outputs": [],
   "source": [
    "df = pd.read_csv(\"../data/New300-plus-150.csv\", index_col=\"id\").drop('Notes (24 Dx)', axis = 1)"
   ]
  },
  {
   "cell_type": "code",
   "execution_count": 114,
   "metadata": {},
   "outputs": [
    {
     "data": {
      "text/html": [
       "<div>\n",
       "<style scoped>\n",
       "    .dataframe tbody tr th:only-of-type {\n",
       "        vertical-align: middle;\n",
       "    }\n",
       "\n",
       "    .dataframe tbody tr th {\n",
       "        vertical-align: top;\n",
       "    }\n",
       "\n",
       "    .dataframe thead th {\n",
       "        text-align: right;\n",
       "    }\n",
       "</style>\n",
       "<table border=\"1\" class=\"dataframe\">\n",
       "  <thead>\n",
       "    <tr style=\"text-align: right;\">\n",
       "      <th></th>\n",
       "      <th>sex</th>\n",
       "      <th>age</th>\n",
       "      <th>Age Under 35</th>\n",
       "      <th>Age Over 60</th>\n",
       "      <th>CC: Pain</th>\n",
       "      <th>CC: HA current?</th>\n",
       "      <th>CC:NA</th>\n",
       "      <th>CC:EA</th>\n",
       "      <th>CC: TMJ</th>\n",
       "      <th>CC:Nerve</th>\n",
       "      <th>...</th>\n",
       "      <th>Idiopathic Condylar Resorption\n",
       "(too rare)</th>\n",
       "      <th>Tensor Tympani Syndrome\n",
       "(too rare)</th>\n",
       "      <th>Sinusitis (uncommon)</th>\n",
       "      <th>Tinnitus</th>\n",
       "      <th>Episodic &amp; Frequent Migraine</th>\n",
       "      <th>Episodic &amp; Frequent TTHA</th>\n",
       "      <th>Temporal Arteritis</th>\n",
       "      <th>Can't Close (Acute Malocclusion, Open Dislocation, Lateral Pterygoid Trismus, PDDNR; splint induced open bite)</th>\n",
       "      <th>Secondary Headache (TMJ, Neurpapthic, Sinus, Neck pain, Neck OA induced)</th>\n",
       "      <th>Infection</th>\n",
       "    </tr>\n",
       "    <tr>\n",
       "      <th>id</th>\n",
       "      <th></th>\n",
       "      <th></th>\n",
       "      <th></th>\n",
       "      <th></th>\n",
       "      <th></th>\n",
       "      <th></th>\n",
       "      <th></th>\n",
       "      <th></th>\n",
       "      <th></th>\n",
       "      <th></th>\n",
       "      <th></th>\n",
       "      <th></th>\n",
       "      <th></th>\n",
       "      <th></th>\n",
       "      <th></th>\n",
       "      <th></th>\n",
       "      <th></th>\n",
       "      <th></th>\n",
       "      <th></th>\n",
       "      <th></th>\n",
       "      <th></th>\n",
       "    </tr>\n",
       "  </thead>\n",
       "  <tbody>\n",
       "    <tr>\n",
       "      <th>00C</th>\n",
       "      <td>Female</td>\n",
       "      <td>57.0</td>\n",
       "      <td>No</td>\n",
       "      <td>No</td>\n",
       "      <td>Yes</td>\n",
       "      <td>No</td>\n",
       "      <td>No</td>\n",
       "      <td>No</td>\n",
       "      <td>Yes</td>\n",
       "      <td>No</td>\n",
       "      <td>...</td>\n",
       "      <td>No</td>\n",
       "      <td>No</td>\n",
       "      <td>No</td>\n",
       "      <td>No</td>\n",
       "      <td>No</td>\n",
       "      <td>No</td>\n",
       "      <td>No</td>\n",
       "      <td>No</td>\n",
       "      <td>No</td>\n",
       "      <td>No</td>\n",
       "    </tr>\n",
       "    <tr>\n",
       "      <th>00D</th>\n",
       "      <td>Female</td>\n",
       "      <td>61.0</td>\n",
       "      <td>No</td>\n",
       "      <td>Yes</td>\n",
       "      <td>Yes</td>\n",
       "      <td>No</td>\n",
       "      <td>No</td>\n",
       "      <td>No</td>\n",
       "      <td>No</td>\n",
       "      <td>No</td>\n",
       "      <td>...</td>\n",
       "      <td>No</td>\n",
       "      <td>No</td>\n",
       "      <td>No</td>\n",
       "      <td>No</td>\n",
       "      <td>No</td>\n",
       "      <td>No</td>\n",
       "      <td>No</td>\n",
       "      <td>No</td>\n",
       "      <td>No</td>\n",
       "      <td>No</td>\n",
       "    </tr>\n",
       "    <tr>\n",
       "      <th>00E</th>\n",
       "      <td>Female</td>\n",
       "      <td>61.0</td>\n",
       "      <td>No</td>\n",
       "      <td>Yes</td>\n",
       "      <td>Yes</td>\n",
       "      <td>No</td>\n",
       "      <td>No</td>\n",
       "      <td>No</td>\n",
       "      <td>No</td>\n",
       "      <td>No</td>\n",
       "      <td>...</td>\n",
       "      <td>No</td>\n",
       "      <td>No</td>\n",
       "      <td>No</td>\n",
       "      <td>No</td>\n",
       "      <td>No</td>\n",
       "      <td>No</td>\n",
       "      <td>No</td>\n",
       "      <td>No</td>\n",
       "      <td>No</td>\n",
       "      <td>No</td>\n",
       "    </tr>\n",
       "    <tr>\n",
       "      <th>001</th>\n",
       "      <td>Female</td>\n",
       "      <td>50.0</td>\n",
       "      <td>No</td>\n",
       "      <td>No</td>\n",
       "      <td>Yes</td>\n",
       "      <td>No</td>\n",
       "      <td>No</td>\n",
       "      <td>No</td>\n",
       "      <td>Yes</td>\n",
       "      <td>No</td>\n",
       "      <td>...</td>\n",
       "      <td>No</td>\n",
       "      <td>No</td>\n",
       "      <td>No</td>\n",
       "      <td>No</td>\n",
       "      <td>No</td>\n",
       "      <td>No</td>\n",
       "      <td>No</td>\n",
       "      <td>No</td>\n",
       "      <td>No</td>\n",
       "      <td>No</td>\n",
       "    </tr>\n",
       "    <tr>\n",
       "      <th>002</th>\n",
       "      <td>Female</td>\n",
       "      <td>66.0</td>\n",
       "      <td>No</td>\n",
       "      <td>Yes</td>\n",
       "      <td>Yes</td>\n",
       "      <td>Yes</td>\n",
       "      <td>No</td>\n",
       "      <td>No</td>\n",
       "      <td>No</td>\n",
       "      <td>No</td>\n",
       "      <td>...</td>\n",
       "      <td>No</td>\n",
       "      <td>No</td>\n",
       "      <td>No</td>\n",
       "      <td>No</td>\n",
       "      <td>No</td>\n",
       "      <td>No</td>\n",
       "      <td>No</td>\n",
       "      <td>No</td>\n",
       "      <td>No</td>\n",
       "      <td>No</td>\n",
       "    </tr>\n",
       "  </tbody>\n",
       "</table>\n",
       "<p>5 rows × 171 columns</p>\n",
       "</div>"
      ],
      "text/plain": [
       "        sex   age Age Under 35 Age Over 60 CC: Pain CC: HA current? CC:NA  \\\n",
       "id                                                                          \n",
       "00C  Female  57.0           No          No      Yes              No    No   \n",
       "00D  Female  61.0           No         Yes      Yes              No    No   \n",
       "00E  Female  61.0           No         Yes      Yes              No    No   \n",
       "001  Female  50.0           No          No      Yes              No    No   \n",
       "002  Female  66.0           No         Yes      Yes             Yes    No   \n",
       "\n",
       "    CC:EA CC: TMJ CC:Nerve    ...     \\\n",
       "id                            ...      \n",
       "00C    No     Yes       No    ...      \n",
       "00D    No      No       No    ...      \n",
       "00E    No      No       No    ...      \n",
       "001    No     Yes       No    ...      \n",
       "002    No      No       No    ...      \n",
       "\n",
       "    Idiopathic Condylar Resorption\\n(too rare)  \\\n",
       "id                                               \n",
       "00C                                         No   \n",
       "00D                                         No   \n",
       "00E                                         No   \n",
       "001                                         No   \n",
       "002                                         No   \n",
       "\n",
       "    Tensor Tympani Syndrome\\n(too rare) Sinusitis (uncommon) Tinnitus  \\\n",
       "id                                                                      \n",
       "00C                                  No                   No       No   \n",
       "00D                                  No                   No       No   \n",
       "00E                                  No                   No       No   \n",
       "001                                  No                   No       No   \n",
       "002                                  No                   No       No   \n",
       "\n",
       "    Episodic & Frequent Migraine Episodic & Frequent TTHA Temporal Arteritis  \\\n",
       "id                                                                             \n",
       "00C                           No                       No                 No   \n",
       "00D                           No                       No                 No   \n",
       "00E                           No                       No                 No   \n",
       "001                           No                       No                 No   \n",
       "002                           No                       No                 No   \n",
       "\n",
       "    Can't Close (Acute Malocclusion, Open Dislocation, Lateral Pterygoid Trismus, PDDNR; splint induced open bite)  \\\n",
       "id                                                                                                                   \n",
       "00C                                                 No                                                               \n",
       "00D                                                 No                                                               \n",
       "00E                                                 No                                                               \n",
       "001                                                 No                                                               \n",
       "002                                                 No                                                               \n",
       "\n",
       "    Secondary Headache (TMJ, Neurpapthic, Sinus, Neck pain, Neck OA induced)  \\\n",
       "id                                                                             \n",
       "00C                                                 No                         \n",
       "00D                                                 No                         \n",
       "00E                                                 No                         \n",
       "001                                                 No                         \n",
       "002                                                 No                         \n",
       "\n",
       "    Infection  \n",
       "id             \n",
       "00C        No  \n",
       "00D        No  \n",
       "00E        No  \n",
       "001        No  \n",
       "002        No  \n",
       "\n",
       "[5 rows x 171 columns]"
      ]
     },
     "execution_count": 114,
     "metadata": {},
     "output_type": "execute_result"
    }
   ],
   "source": [
    "df.head()"
   ]
  },
  {
   "cell_type": "markdown",
   "metadata": {},
   "source": [
    "### DATA CLEANING"
   ]
  },
  {
   "cell_type": "markdown",
   "metadata": {},
   "source": [
    "#### COLUMN HEADER"
   ]
  },
  {
   "cell_type": "code",
   "execution_count": 115,
   "metadata": {
    "collapsed": true
   },
   "outputs": [],
   "source": [
    "cols = list(df.columns)\n",
    "\n",
    "'''\n",
    "For each column name:\n",
    "    - lower case\n",
    "    - Substitute non-alphanumeric characters with \"_\".\n",
    "    - Strip trailing \"_\"\n",
    "'''\n",
    "cols = [re.sub(r'\\W+', '_', i.lower()).rstrip('_') for i in cols]"
   ]
  },
  {
   "cell_type": "code",
   "execution_count": 116,
   "metadata": {
    "collapsed": true
   },
   "outputs": [],
   "source": [
    "def trun_c_a_t(s, d, n=3):\n",
    "    '''\n",
    "    Returns s truncated at the n'th (3rd by default) occurrence of the delimiter, d.\n",
    "    '''\n",
    "    return d.join(s.split(d, n)[:n])"
   ]
  },
  {
   "cell_type": "code",
   "execution_count": 117,
   "metadata": {
    "collapsed": true
   },
   "outputs": [],
   "source": [
    "'''\n",
    "For each column name:\n",
    "    Perform trun_c_a_t function.\n",
    "'''\n",
    "colns = [trun_c_a_t(i, \"_\") for i in cols]"
   ]
  },
  {
   "cell_type": "code",
   "execution_count": 118,
   "metadata": {},
   "outputs": [],
   "source": [
    "'''\n",
    "Substitute the last 30 column names with d1 - d30\n",
    "'''\n",
    "colns[-30:] = [re.sub(x, (\".\"), \"d\"+str(i))for i,x in enumerate(colns[-30:], 1)]"
   ]
  },
  {
   "cell_type": "code",
   "execution_count": 119,
   "metadata": {
    "collapsed": true
   },
   "outputs": [],
   "source": [
    "'''\n",
    "Reassign colns to df.columns\n",
    "'''\n",
    "df.columns = colns"
   ]
  },
  {
   "cell_type": "code",
   "execution_count": 120,
   "metadata": {
    "collapsed": true
   },
   "outputs": [],
   "source": [
    "'''\n",
    "Remove \"#\" behind index number\n",
    "'''\n",
    "df.index = [i.lstrip(\"#\") for i in list(df.index)]"
   ]
  },
  {
   "cell_type": "markdown",
   "metadata": {},
   "source": [
    "### DATA VALUES"
   ]
  },
  {
   "cell_type": "code",
   "execution_count": 121,
   "metadata": {
    "collapsed": true
   },
   "outputs": [],
   "source": [
    "'''\n",
    "Make string values lowercase\n",
    "'''\n",
    "df= df.applymap(lambda s:s.lower() if isinstance(s,str) else s)"
   ]
  },
  {
   "cell_type": "code",
   "execution_count": 122,
   "metadata": {},
   "outputs": [
    {
     "name": "stderr",
     "output_type": "stream",
     "text": [
      "C:\\Users\\dubem\\Anaconda3\\lib\\site-packages\\ipykernel_launcher.py:4: RuntimeWarning: invalid value encountered in less\n",
      "  after removing the cwd from sys.path.\n"
     ]
    }
   ],
   "source": [
    "'''\n",
    "Change \"age_under_35 values to represent age_under_40\n",
    "'''\n",
    "age = list(df.age)\n",
    "age = np.ma.array(age, mask=np.isnan(age))\n",
    "\n",
    "df[\"age_under_35\"] = np.where(age < 40, \"yes\", \"no\") "
   ]
  },
  {
   "cell_type": "code",
   "execution_count": null,
   "metadata": {
    "collapsed": true
   },
   "outputs": [],
   "source": [
    "'''\n",
    "Change max_open \"yes\", \"no\" with threshold >=40\n",
    "'''"
   ]
  },
  {
   "cell_type": "code",
   "execution_count": 124,
   "metadata": {
    "collapsed": true
   },
   "outputs": [],
   "source": [
    "train = df[:300] "
   ]
  },
  {
   "cell_type": "code",
   "execution_count": 125,
   "metadata": {},
   "outputs": [
    {
     "name": "stderr",
     "output_type": "stream",
     "text": [
      "C:\\Users\\dubem\\Anaconda3\\lib\\site-packages\\pandas\\core\\frame.py:3790: SettingWithCopyWarning: \n",
      "A value is trying to be set on a copy of a slice from a DataFrame\n",
      "\n",
      "See the caveats in the documentation: http://pandas.pydata.org/pandas-docs/stable/indexing.html#indexing-view-versus-copy\n",
      "  downcast=downcast, **kwargs)\n"
     ]
    }
   ],
   "source": [
    "'''\n",
    "Fill blank cells with \"no\"\n",
    "'''\n",
    "train.fillna(\"no\", inplace=True)"
   ]
  },
  {
   "cell_type": "code",
   "execution_count": 126,
   "metadata": {},
   "outputs": [],
   "source": [
    "train.to_csv(\"../data/new_cleaned_300.csv\")"
   ]
  },
  {
   "cell_type": "code",
   "execution_count": null,
   "metadata": {
    "collapsed": true
   },
   "outputs": [],
   "source": [
    "'''\n",
    "NOTE:\n",
    "id 15, has age as \"yes\". \n",
    "I changed it to 61 according to the \"age_over_60\" columns just for testing purposes. \n",
    "We need the correct age for id 15\n",
    "'''"
   ]
  }
 ],
 "metadata": {
  "kernelspec": {
   "display_name": "Python 3",
   "language": "python",
   "name": "python3"
  },
  "language_info": {
   "codemirror_mode": {
    "name": "ipython",
    "version": 3
   },
   "file_extension": ".py",
   "mimetype": "text/x-python",
   "name": "python",
   "nbconvert_exporter": "python",
   "pygments_lexer": "ipython3",
   "version": "3.6.3"
  }
 },
 "nbformat": 4,
 "nbformat_minor": 2
}
